{
 "cells": [
  {
   "cell_type": "markdown",
   "metadata": {},
   "source": [
    "# Tick data\n",
    "\n",
    "For optimum results this notebook should be run during the Forex trading session."
   ]
  },
  {
   "cell_type": "code",
   "execution_count": 1,
   "metadata": {},
   "outputs": [
    {
     "data": {
      "text/plain": [
       "<IB connected to 127.0.0.1:7497 clientId=15>"
      ]
     },
     "execution_count": 1,
     "metadata": {},
     "output_type": "execute_result"
    }
   ],
   "source": [
    "from ib_insync import *\n",
    "util.startLoop()\n",
    "\n",
    "ib = IB()\n",
    "ib.connect('127.0.0.1', 7497, clientId=15)"
   ]
  },
  {
   "cell_type": "markdown",
   "metadata": {},
   "source": [
    "Create some Forex contracts:"
   ]
  },
  {
   "cell_type": "code",
   "execution_count": 2,
   "metadata": {
    "collapsed": true
   },
   "outputs": [],
   "source": [
    "contracts = [Forex(pair) for pair in 'EURUSD USDJPY GBPUSD USDCHF USDCAD AUDUSD'.split()]\n",
    "\n",
    "eurusd = contracts[0]"
   ]
  },
  {
   "cell_type": "markdown",
   "metadata": {},
   "source": [
    "Request streaming ticks for them:"
   ]
  },
  {
   "cell_type": "code",
   "execution_count": 3,
   "metadata": {
    "collapsed": true
   },
   "outputs": [],
   "source": [
    "for contract in contracts:\n",
    "    ib.reqMktData(contract, '', False, False)"
   ]
  },
  {
   "cell_type": "markdown",
   "metadata": {},
   "source": [
    "Wait a few seconds for the tickers to get filled."
   ]
  },
  {
   "cell_type": "code",
   "execution_count": 4,
   "metadata": {},
   "outputs": [
    {
     "data": {
      "text/plain": [
       "Ticker(contract=Forex('EURUSD', exchange='IDEALPRO'), time=datetime.datetime(2018, 5, 8, 13, 6, 30, 746835, tzinfo=datetime.timezone.utc), bid=1.18552, bidSize=11500000, ask=1.18554, askSize=2000000, prevBid=1.18554, prevBidSize=10500000, prevAsk=1.18556, prevAskSize=7400000, high=1.19385, low=1.1855, close=1.1923, ticks=[], tickByTicks=[], domBids=[], domAsks=[], domTicks=[])"
      ]
     },
     "execution_count": 4,
     "metadata": {},
     "output_type": "execute_result"
    }
   ],
   "source": [
    "ticker = ib.ticker(eurusd)\n",
    "ib.sleep(2)\n",
    "\n",
    "ticker"
   ]
  },
  {
   "cell_type": "markdown",
   "metadata": {},
   "source": [
    "The price of Forex ticks is always nan. To get a midpoint price use ``marketPrice()``.\n",
    "\n",
    "The tickers are kept\n",
    "live updated, try this a few times to see if the price changes:"
   ]
  },
  {
   "cell_type": "code",
   "execution_count": 5,
   "metadata": {},
   "outputs": [
    {
     "data": {
      "text/plain": [
       "1.18553"
      ]
     },
     "execution_count": 5,
     "metadata": {},
     "output_type": "execute_result"
    }
   ],
   "source": [
    "ticker.marketPrice()"
   ]
  },
  {
   "cell_type": "markdown",
   "metadata": {},
   "source": [
    "The following cell will start a 60 second loop that prints a live updated ticker table.\n",
    "It is updated on every ticker change."
   ]
  },
  {
   "cell_type": "code",
   "execution_count": 7,
   "metadata": {},
   "outputs": [
    {
     "data": {
      "text/html": [
       "<div>\n",
       "<style scoped>\n",
       "    .dataframe tbody tr th:only-of-type {\n",
       "        vertical-align: middle;\n",
       "    }\n",
       "\n",
       "    .dataframe tbody tr th {\n",
       "        vertical-align: top;\n",
       "    }\n",
       "\n",
       "    .dataframe thead th {\n",
       "        text-align: right;\n",
       "    }\n",
       "</style>\n",
       "<table border=\"1\" class=\"dataframe\">\n",
       "  <thead>\n",
       "    <tr style=\"text-align: right;\">\n",
       "      <th></th>\n",
       "      <th>symbol</th>\n",
       "      <th>bidSize</th>\n",
       "      <th>bid</th>\n",
       "      <th>ask</th>\n",
       "      <th>askSize</th>\n",
       "      <th>high</th>\n",
       "      <th>low</th>\n",
       "      <th>close</th>\n",
       "    </tr>\n",
       "  </thead>\n",
       "  <tbody>\n",
       "    <tr>\n",
       "      <th>0</th>\n",
       "      <td>EURUSD</td>\n",
       "      <td>4000000</td>\n",
       "      <td>1.1856</td>\n",
       "      <td>1.18563</td>\n",
       "      <td>5500000</td>\n",
       "      <td>1.19385</td>\n",
       "      <td>1.18515</td>\n",
       "      <td>1.1923</td>\n",
       "    </tr>\n",
       "    <tr>\n",
       "      <th>1</th>\n",
       "      <td>USDJPY</td>\n",
       "      <td>1000000</td>\n",
       "      <td>109.222</td>\n",
       "      <td>109.223</td>\n",
       "      <td>2000000</td>\n",
       "      <td>109.24</td>\n",
       "      <td>108.855</td>\n",
       "      <td>109.09</td>\n",
       "    </tr>\n",
       "    <tr>\n",
       "      <th>2</th>\n",
       "      <td>GBPUSD</td>\n",
       "      <td>2000000</td>\n",
       "      <td>1.3497</td>\n",
       "      <td>1.34971</td>\n",
       "      <td>2000000</td>\n",
       "      <td>1.35935</td>\n",
       "      <td>1.34915</td>\n",
       "      <td>1.3557</td>\n",
       "    </tr>\n",
       "    <tr>\n",
       "      <th>3</th>\n",
       "      <td>USDCHF</td>\n",
       "      <td>2000000</td>\n",
       "      <td>1.00269</td>\n",
       "      <td>1.00271</td>\n",
       "      <td>4000000</td>\n",
       "      <td>1.0045</td>\n",
       "      <td>1.0016</td>\n",
       "      <td>1.0027</td>\n",
       "    </tr>\n",
       "    <tr>\n",
       "      <th>4</th>\n",
       "      <td>USDCAD</td>\n",
       "      <td>2000000</td>\n",
       "      <td>1.29722</td>\n",
       "      <td>1.29724</td>\n",
       "      <td>1000000</td>\n",
       "      <td>1.2985</td>\n",
       "      <td>1.2876</td>\n",
       "      <td>1.2881</td>\n",
       "    </tr>\n",
       "    <tr>\n",
       "      <th>5</th>\n",
       "      <td>AUDUSD</td>\n",
       "      <td>2000000</td>\n",
       "      <td>0.74426</td>\n",
       "      <td>0.74427</td>\n",
       "      <td>1500000</td>\n",
       "      <td>0.7528</td>\n",
       "      <td>0.7442</td>\n",
       "      <td>0.7518</td>\n",
       "    </tr>\n",
       "  </tbody>\n",
       "</table>\n",
       "</div>"
      ],
      "text/plain": [
       "   symbol  bidSize      bid      ask  askSize     high      low   close\n",
       "0  EURUSD  4000000   1.1856  1.18563  5500000  1.19385  1.18515  1.1923\n",
       "1  USDJPY  1000000  109.222  109.223  2000000   109.24  108.855  109.09\n",
       "2  GBPUSD  2000000   1.3497  1.34971  2000000  1.35935  1.34915  1.3557\n",
       "3  USDCHF  2000000  1.00269  1.00271  4000000   1.0045   1.0016  1.0027\n",
       "4  USDCAD  2000000  1.29722  1.29724  1000000   1.2985   1.2876  1.2881\n",
       "5  AUDUSD  2000000  0.74426  0.74427  1500000   0.7528   0.7442  0.7518"
      ]
     },
     "metadata": {},
     "output_type": "display_data"
    }
   ],
   "source": [
    "from IPython.display import display, clear_output\n",
    "import pandas as pd\n",
    "\n",
    "df = pd.DataFrame(columns='symbol bidSize bid ask askSize high low close'.split())\n",
    "df['symbol'] = [c.symbol + c.currency for c in contracts]\n",
    "contract2Row = {c: i for (i, c) in enumerate(contracts)}\n",
    "\n",
    "def onPendingTickers(tickers):\n",
    "    for t in tickers:\n",
    "        row = contract2Row[t.contract]\n",
    "        df.iloc[row, 1:] = (t.bidSize, t.bid, t.ask, t.askSize, t.high, t.low, t.close)\n",
    "        clear_output(wait=True)\n",
    "    display(df)        \n",
    "\n",
    "ib.pendingTickersEvent += onPendingTickers\n",
    "\n",
    "ib.sleep(60)"
   ]
  },
  {
   "cell_type": "markdown",
   "metadata": {},
   "source": [
    "New tick data is available in the 'ticks' attribute of the pending tickers.\n",
    "The tick data will be cleared before the next update."
   ]
  },
  {
   "cell_type": "markdown",
   "metadata": {},
   "source": [
    "To stop the live tick subscriptions:"
   ]
  },
  {
   "cell_type": "code",
   "execution_count": 8,
   "metadata": {
    "collapsed": true
   },
   "outputs": [],
   "source": [
    "for contract in contracts:\n",
    "    ib.cancelMktData(contract)"
   ]
  },
  {
   "cell_type": "code",
   "execution_count": 9,
   "metadata": {
    "collapsed": true
   },
   "outputs": [],
   "source": [
    "ib.disconnect()"
   ]
  },
  {
   "cell_type": "code",
   "execution_count": null,
   "metadata": {
    "collapsed": true
   },
   "outputs": [],
   "source": []
  }
 ],
 "metadata": {
  "kernelspec": {
   "display_name": "Python 3",
   "language": "python",
   "name": "python3"
  },
  "language_info": {
   "codemirror_mode": {
    "name": "ipython",
    "version": 3
   },
   "file_extension": ".py",
   "mimetype": "text/x-python",
   "name": "python",
   "nbconvert_exporter": "python",
   "pygments_lexer": "ipython3",
   "version": "3.6.5"
  }
 },
 "nbformat": 4,
 "nbformat_minor": 2
}
