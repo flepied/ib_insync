{
 "cells": [
  {
   "cell_type": "markdown",
   "metadata": {},
   "source": [
    "# Scanners"
   ]
  },
  {
   "cell_type": "code",
   "execution_count": 1,
   "metadata": {},
   "outputs": [
    {
     "data": {
      "text/plain": [
       "<IB connected to 127.0.0.1:7497 clientId=9>"
      ]
     },
     "execution_count": 1,
     "metadata": {},
     "output_type": "execute_result"
    }
   ],
   "source": [
    "from ib_insync import *\n",
    "util.startLoop()  \n",
    "\n",
    "ib = IB()\n",
    "ib.connect('127.0.0.1', 7497, clientId=9)"
   ]
  },
  {
   "cell_type": "markdown",
   "metadata": {},
   "source": [
    "## Basic Scanner\n",
    "\n",
    "To create a scanner create a `ScannerSubscription` option to submit to the `reqScannerData` method. For any scanner to work it must at least have the `instrument`, `locationCode`, and `scanCode` parameters filled.\n",
    "\n",
    "Additionally, the `ScannerSubscription` has other filters directly submitted like `abovePrice` and `aboveVolume`. Check [here](https://github.com/erdewit/ib_insync/blob/master/ib_insync/objects.py) for a full list of the default filters."
   ]
  },
  {
   "cell_type": "code",
   "execution_count": 2,
   "metadata": {},
   "outputs": [
    {
     "name": "stderr",
     "output_type": "stream",
     "text": [
      "Error 162, reqId 3: Historical Market Data Service error message:API scanner subscription cancelled: 3\n",
      "Error 365, reqId 3: No scanner subscription found for ticker id:3\n"
     ]
    }
   ],
   "source": [
    "sub = ScannerSubscription(instrument='STK', \n",
    "                    locationCode='STK.US.MAJOR', \n",
    "                    scanCode='TOP_PERC_GAIN', \n",
    "                    abovePrice=500, \n",
    "                    aboveVolume=1000000, \n",
    "                   )\n",
    "\n",
    "scanData = ib.reqScannerData(sub, [])\n",
    "\n",
    "ib.sleep(0.1)\n",
    "ib.cancelScannerSubscription(scanData)"
   ]
  },
  {
   "cell_type": "markdown",
   "metadata": {},
   "source": [
    "The scanner will return a list of contracts but no other data. In this case we can only be sure that these stocks had a price over 500 and volume over 1,000,000 when the scan was performed."
   ]
  },
  {
   "cell_type": "markdown",
   "metadata": {},
   "source": [
    "We can loop through these contracts to find more information. For example, lets get the number of public floating shares for each contract in our scanner. "
   ]
  },
  {
   "cell_type": "code",
   "execution_count": 3,
   "metadata": {},
   "outputs": [
    {
     "name": "stdout",
     "output_type": "stream",
     "text": [
      "The public float for TSLA is 142465943.0\n",
      "The public float for GOOGL is 623218570.0\n"
     ]
    },
    {
     "name": "stderr",
     "output_type": "stream",
     "text": [
      "Error 430, reqId 6: We are sorry, but fundamentals data for the security specified is not available.failed to fetch, contract: Contract(secType='STK', conId=208813720, symbol='GOOG', exchange='SMART', currency='USD', localSymbol='GOOG', tradingClass='NMS')\n"
     ]
    },
    {
     "name": "stdout",
     "output_type": "stream",
     "text": [
      "Public float not available for GOOG\n",
      "The public float for AMZN is 420206723.0\n"
     ]
    }
   ],
   "source": [
    "from bs4 import BeautifulSoup\n",
    "\n",
    "def getFloat(contract):\n",
    "\n",
    "    fundamentals = ib.reqFundamentalData(contract, 'ReportSnapshot')\n",
    "    fundamentals = BeautifulSoup(fundamentals, 'xml')\n",
    "\n",
    "    qfloat = float(fundamentals.find_all('SharesOut')[0]['TotalFloat'])\n",
    "    \n",
    "    return qfloat\n",
    "    \n",
    "for scan in scanData: \n",
    "    try: \n",
    "        contract = scan.contractDetails.contract\n",
    "        print('The public float for',contract.symbol,'is',getFloat(contract))\n",
    "    except: \n",
    "        print('Public float not available for',contract.symbol)"
   ]
  },
  {
   "cell_type": "markdown",
   "metadata": {},
   "source": [
    "As you can see, not all contracts returned by the scanner will be valid for your purposes. Make sure you include checks when processing the scanner results. \n",
    "\n",
    "## Scanner Parameters\n",
    "\n",
    "The scanner parameters map directly to the options available through the TWS \"Advanced Market Scanner.\" You can check all the scanner parameters values available"
   ]
  },
  {
   "cell_type": "code",
   "execution_count": 4,
   "metadata": {
    "scrolled": false
   },
   "outputs": [
    {
     "name": "stdout",
     "output_type": "stream",
     "text": [
      "<?xml version=\"1.0\" encoding=\"UTF-8\"?>\n",
      "<ScanParameterResponse>\n",
      "\t<InstrumentList varName=\"instrumentList\">\n",
      "\t\t<Instrument>\n",
      "\t\t\t<name>US Stocks</name>\n",
      "\t\t\t<type>STK</type>\n",
      "\t\t\t<filters>AFTERHRSCHANGEPERC,AVGOPTVOLUME,AVGPRICETARGET,AVGRATING,AVGTARGET2PRICERATIO,AVGVOLUME,AVGVOLUME_USD,CHANGEOPENPERC,CHANGEPERC,EMA_20,EMA_50,EMA_100,EMA_200,PRICE_VS_EMA_20,PRICE_VS_EMA_50,PRICE_VS_EMA_100,PRICE_VS_EMA_200,DAYSTOCOVER,DIVIB,DIVYIELD,DIVYIELDIB,FEERATE,FIRSTTRADEDATE,GROWTHRATE,HALTED,HASOPTIONS,HISTDIVIB,HISTDIVYIELDIB,IMBALANCE,IMBALANCEADVRATIOPERC,IMPVOLAT,IMPVOLATOVERHIST,INSIDEROFFLOATPERC,INSTITUTIONALOFFLOATPERC,MACD,MACD_SIGNAL,MACD_HISTOGRAM,MKTCAP,MKTCAP_USD,NEXTDIVAMOUNT,NEXTDIVDATE,NUMPRICETARGETS,NUMRATINGS,NUMSHARESINSIDER,NUMSHARESINSTITUTIONAL,NUMSHARESSHORT,OPENGAPPERC,OPTVOLUME,OPTVOLUMEPCRATIO,PERATIO,PPO,PPO_SIGNAL,PPO_HISTOGRAM,PRICE,PRICE2BK,PRICE2TANBK,PRICERANGE,PRICE_USD,QUICKRATIO,REBATERATE,REGIMBALANCE,REGIMBALANCEADVRATIOPERC,RETEQUITY,SHORTABLESHARES,SHORTOFFLOATPERC,SHORTSALERESTRICTED,SIC,ISSUER_COUNTRY_CODE,SOCSACT,SOCSNET,STKTYPE,STVOLUME_3MIN,STVOLUME_5MIN,STVOLUME_10MIN,TRADECOUNT,TRADERATE,UNSHORTABLE,VOLUME,VOLUMERATE,VOLUME_USD,RCGLTCLASS,RCGLTENDDATE,RCGLTIVALUE,RCGLTTRADE,RCGITCLASS,RCGITENDDATE,RCGITIVALUE,RCGITTRADE,RCGSTCLASS,RCGSTENDDATE,RCGSTIVALUE,RCGSTTRADE,ESG_SCORE,ESG_COMBINED_SCORE,ESG_CONTROVERSIES_SCORE,ESG_RESOURCE_USE_SCORE,ESG_EMISSIONS_SCORE,ESG_ENV_INNOVATION_SCORE,ESG_WORKFORCE_SCORE,ESG_HUMAN_RIGHTS_SCORE,ESG_COMMUNITY_SCORE,ESG_PRODUCT_RESPONSIBILITY_SCORE,ESG_MANAGEMENT_SCORE,ESG_SHAREHOLDERS_SCORE,ESG_CSR_STRATEGY_SCORE,ESG_ENV_PILLAR_SCORE,ESG_SOCIAL_PILLAR_SCORE,ESG_CORP_GOV_PILLAR_SCORE,IV_RANK13,IV_RANK26,IV_RANK52,IV_PERCENTILE13,IV_PERCENTILE26,IV_PERCENTILE52,HV_RANK13,HV_RANK26,HV_RANK52,HV_PERCENTILE13,HV_PERCENTILE26,HV_PERCENTILE52,PRICE_2_SALES,EQUITY_PER_SHARE,UTILIZATION</filters>\n",
      "\t\t\t<group>STK.GLOBAL</group>\n",
      "\t\t\t<shortName>US</shortName>\n",
      "\t\t\t<cloudScanNotSupported>false</cloudScanNotSupported>\n",
      "\t\t</Instrument>\n",
      "\t\t<Instrument>\n",
      "\t\t\t<name>US Equity ETFs</name>\n",
      "\t\t\t<type>ETF.EQ.US</type>\n",
      "\t\t\t<secType>STK</secType>\n",
      "\t\t\t<nscanSecType>ETF.EQ</nscanSecType>\n",
      "\t\t\t<filters>AFTERHRSCHANGEPERC,AVGOPTVOLUME,AVGPRICETARGET,AVGRATING,AVGTARGET2PRICERATIO,AVGVOLUME,AVGVOLUME_USD,CHANGEOPENPERC,CHANGEPERC,EMA_20,EMA_50,EMA_100,EMA_200,PRICE_VS_EMA_20,PRICE_VS_EMA_50,PRICE_VS_EMA_100,PRICE_VS_EMA_200,DAYSTOCOVER,DIVIB,DIVYIELD,DIVYIELDIB,FEERATE,FIRSTTRADEDATE,GROWTHRATE,HALTED,HASOPTIONS,HISTDIVIB,HISTDIVYIELDIB,IMBALANCE,IMBALANCEADVRATIOPERC,IMPVOLAT,IMPVOLATOVERHIST,INSTITUTIONALOFFLOATPERC,MKTCAP,MKTCAP_USD,NEXTDIVAMOUNT,NEXTDIVDATE,NUMPRICETARGETS,NUMRATINGS,NUMSHARESINSTITUTIONAL,NUMSHARESSHORT,OPENGAPPERC,OPTVOLUME,OPTVOLUMEPCRATIO,PRICE,PRICERANGE,PRICE_USD,REBATERATE,REGIMBALANCE,REGIMBALANCEADVRATIOPERC,RETEQUITY,SHORTABLESHARES,SHORTOFFLOATPERC,SHORTSALERESTRICTED,ISSUER_COUNTRY_CODE,SOCSACT,SOCSNET,STVOLUME_3MIN,STVOLUME_5MIN,STVOLUME_10MIN,TRADECOUNT,TRADERATE,UNSHORTABLE,VOLUME,VOLUMERATE\n"
     ]
    }
   ],
   "source": [
    "allParams = ib.reqScannerParameters()\n",
    "print(allParams[:3000]) # only print 3,000 characters to keep it short "
   ]
  },
  {
   "cell_type": "markdown",
   "metadata": {},
   "source": [
    "<br>For every parameter you can see the <name> which is how it appears in TWS and the <type> which is how you would submit it to the `ScannerSubscription` object. \n",
    "\n",
    "In the above example you can see that each instrument also shows you which filters are applicable to it. If we want to use any of these filter options we need to use the `TagValue` class and the `scannerSubscriptionFilterOptions` option. In this case lets use the \"CHANGEPERC\" filter to filter out stocks that have not moved more than 2% since yesterdays close. "
   ]
  },
  {
   "cell_type": "code",
   "execution_count": 5,
   "metadata": {},
   "outputs": [
    {
     "name": "stderr",
     "output_type": "stream",
     "text": [
      "Error 162, reqId 8: Historical Market Data Service error message:API scanner subscription cancelled: 8\n"
     ]
    },
    {
     "data": {
      "text/plain": [
       "['CRTX', 'GLUU', 'UIS']"
      ]
     },
     "execution_count": 5,
     "metadata": {},
     "output_type": "execute_result"
    },
    {
     "name": "stderr",
     "output_type": "stream",
     "text": [
      "Error 365, reqId 8: No scanner subscription found for ticker id:8\n"
     ]
    }
   ],
   "source": [
    "sub = ScannerSubscription(instrument='STK',           # Submit a scanner subscription for stocks \n",
    "                    locationCode='STK.US.MAJOR',      # Use only US-Major stock exchanges\n",
    "                    scanCode='TOP_PERC_GAIN',         # Use the Top % Gainers scanner code \n",
    "                    abovePrice=5,                     # Any stock above $5 \n",
    "                    aboveVolume=100000,               # and above 100,000 volume traded so far today \n",
    "                   )\n",
    "\n",
    "# Create a list of tag values with the option and optionvalue \n",
    "tagValues = [TagValue(\"changePercAbove\", \"20\")]\n",
    "\n",
    "# Submit the tags when requesting the scanner data, don't forget to include the [] in the second argument\n",
    "scanData = ib.reqScannerData(sub, [], scannerSubscriptionFilterOptions=tagValues)\n",
    "\n",
    "ib.sleep(0.1)\n",
    "ib.cancelScannerSubscription(scanData)\n",
    "\n",
    "# Print out the sorted sumbols for the returned contracts \n",
    "symbols = [scan.contractDetails.contract.symbol for scan in scanData]\n",
    "sorted(symbols)"
   ]
  },
  {
   "cell_type": "markdown",
   "metadata": {},
   "source": [
    "Note that in order to submit the \"CHANGEPERC\" filter I had to change it. \n",
    "- First I had to put it in [camelCase](https://en.wikipedia.org/wiki/Camel_case) format.\n",
    "- Second, I had to add an \"Above\" suffix to tell the filter that I wanted everythin above that value. I could have changed this to \"Below\""
   ]
  },
  {
   "cell_type": "markdown",
   "metadata": {},
   "source": [
    "Anything scanner you can create in TWS can be submitted through the API. The `scanCode` parameter maps directly to the \"Parameter\" window in the TWS \"Advanced Market Scanner.\" We can verify this by printing out the `scanCode` values available. "
   ]
  },
  {
   "cell_type": "code",
   "execution_count": 6,
   "metadata": {},
   "outputs": [
    {
     "data": {
      "text/plain": [
       "['SCAN_etfAssets_DESC',\n",
       " 'SCAN_etfAssets_ASC',\n",
       " 'SCAN_etfExpense_DESC',\n",
       " 'SCAN_etfExpense_ASC',\n",
       " 'SCAN_etfALTAR_DESC',\n",
       " 'SCAN_etfALTAR_ASC',\n",
       " 'SCAN_etfAvgALTAR_DESC',\n",
       " 'SCAN_etfAvgALTAR_ASC',\n",
       " 'SCAN_etfTRytd_DESC',\n",
       " 'SCAN_etfTRytd_ASC',\n",
       " 'SCAN_etfTR1yr_DESC',\n",
       " 'SCAN_etfTR1yr_ASC',\n",
       " 'SCAN_etfTR5yr_DESC',\n",
       " 'SCAN_etfTR5yr_ASC',\n",
       " 'SCAN_etfTR10yr_DESC',\n",
       " 'SCAN_etfTR10yr_ASC',\n",
       " 'SCAN_etfTRIncep_DESC',\n",
       " 'SCAN_etfTRIncep_ASC',\n",
       " 'SCAN_etfTrackingDiffPct_DESC',\n",
       " 'SCAN_etfTrackingDiffPct_ASC']"
      ]
     },
     "execution_count": 6,
     "metadata": {},
     "output_type": "execute_result"
    }
   ],
   "source": [
    "paramSoup = BeautifulSoup(allParams, 'xml')\n",
    "[sc.text for sc in paramSoup.find_all('scanCode')[:20]] # just print out 20 items for brevety"
   ]
  },
  {
   "cell_type": "markdown",
   "metadata": {},
   "source": [
    "## Other Products\n",
    "\n",
    "You are not limited to stocks."
   ]
  },
  {
   "cell_type": "code",
   "execution_count": 7,
   "metadata": {
    "scrolled": true
   },
   "outputs": [
    {
     "data": {
      "text/plain": [
       "['US Stocks',\n",
       " 'US Equity ETFs',\n",
       " 'US Fixed Income ETFs',\n",
       " 'US Futures',\n",
       " 'US Indexes',\n",
       " 'US SSFs',\n",
       " 'Corporate Bonds',\n",
       " 'US CDs',\n",
       " 'US Agency Bonds',\n",
       " 'US Treasuries']"
      ]
     },
     "execution_count": 7,
     "metadata": {},
     "output_type": "execute_result"
    }
   ],
   "source": [
    "[i.find_all('name')[0].text for i in paramSoup.find_all('Instrument')][:10]"
   ]
  },
  {
   "cell_type": "code",
   "execution_count": 8,
   "metadata": {
    "scrolled": false
   },
   "outputs": [
    {
     "data": {
      "text/plain": [
       "[Contract(secType='FUT', conId=346577697, symbol='ES', lastTradeDateOrContractMonth='20200320', exchange='GLOBEX', currency='USD', localSymbol='ESH0', tradingClass='ES'),\n",
       " Contract(secType='FUT', conId=346577750, symbol='NQ', lastTradeDateOrContractMonth='20200320', exchange='GLOBEX', currency='USD', localSymbol='NQH0', tradingClass='NQ'),\n",
       " Contract(secType='FUT', conId=362698381, symbol='MES', lastTradeDateOrContractMonth='20200320', exchange='GLOBEX', currency='USD', localSymbol='MESH0', tradingClass='MES'),\n",
       " Contract(secType='FUT', conId=362702255, symbol='MNQ', lastTradeDateOrContractMonth='20200320', exchange='GLOBEX', currency='USD', localSymbol='MNQH0', tradingClass='MNQ'),\n",
       " Contract(secType='FUT', conId=82252724, symbol='GE', lastTradeDateOrContractMonth='20201214', exchange='GLOBEX', currency='USD', localSymbol='GEZ0', tradingClass='GE')]"
      ]
     },
     "execution_count": 8,
     "metadata": {},
     "output_type": "execute_result"
    },
    {
     "name": "stderr",
     "output_type": "stream",
     "text": [
      "Error 162, reqId 9: Historical Market Data Service error message:API scanner subscription cancelled: 9\n"
     ]
    }
   ],
   "source": [
    "sub = ScannerSubscription(instrument='FUT.US',\n",
    "                          locationCode='FUT.GLOBEX', \n",
    "                          scanCode='MOST_ACTIVE')\n",
    "\n",
    "scanData = ib.reqScannerData(sub, [])\n",
    "contracts = [scan.contractDetails.contract for scan in scanData]\n",
    "contracts[:5]"
   ]
  },
  {
   "cell_type": "code",
   "execution_count": 9,
   "metadata": {},
   "outputs": [],
   "source": [
    "ib.disconnect()"
   ]
  }
 ],
 "metadata": {
  "kernelspec": {
   "display_name": "Python 3",
   "language": "python",
   "name": "python3"
  },
  "varInspector": {
   "cols": {
    "lenName": 16,
    "lenType": 16,
    "lenVar": 40
   },
   "kernels_config": {
    "python": {
     "delete_cmd_postfix": "",
     "delete_cmd_prefix": "del ",
     "library": "var_list.py",
     "varRefreshCmd": "print(var_dic_list())"
    },
    "r": {
     "delete_cmd_postfix": ") ",
     "delete_cmd_prefix": "rm(",
     "library": "var_list.r",
     "varRefreshCmd": "cat(var_dic_list()) "
    }
   },
   "types_to_exclude": [
    "module",
    "function",
    "builtin_function_or_method",
    "instance",
    "_Feature"
   ],
   "window_display": false
  }
 },
 "nbformat": 4,
 "nbformat_minor": 2
}
