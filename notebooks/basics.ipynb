{
 "cells": [
  {
   "cell_type": "markdown",
   "metadata": {},
   "source": [
    "# Basics\n",
    "\n",
    "Let's first take a look at what's inside the ``ib_insync`` package:"
   ]
  },
  {
   "cell_type": "code",
   "execution_count": 1,
   "metadata": {},
   "outputs": [
    {
     "name": "stdout",
     "output_type": "stream",
     "text": [
      "['util', 'Object', 'ContractDetails', 'ContractDescription', 'ComboLeg', 'UnderComp', 'DeltaNeutralContract', 'OrderComboLeg', 'OrderState', 'ScannerSubscription', 'SoftDollarTier', 'Execution', 'CommissionReport', 'ExecutionFilter', 'BarList', 'BarDataList', 'RealTimeBarList', 'BarData', 'RealTimeBar', 'HistogramData', 'TickAttrib', 'NewsProvider', 'DepthMktDataDescription', 'PnL', 'PnLSingle', 'AccountValue', 'RealTimeBar', 'TickData', 'TickByTickAllLast', 'TickByTickBidAsk', 'TickByTickMidPoint', 'HistoricalTick', 'HistoricalTickBidAsk', 'HistoricalTickLast', 'MktDepthData', 'DOMLevel', 'BracketOrder', 'TradeLogEntry', 'ScanData', 'TagValue', 'PortfolioItem', 'Position', 'Fill', 'OptionComputation', 'OptionChain', 'Dividends', 'NewsArticle', 'HistoricalNews', 'NewsTick', 'NewsBulletin', 'ConnectionStats', 'OrderCondition', 'ExecutionCondition', 'OperatorCondition', 'MarginCondition', 'ContractCondition', 'TimeCondition', 'PriceCondition', 'PercentChangeCondition', 'VolumeCondition', 'Event', 'Contract', 'Stock', 'Option', 'Future', 'ContFuture', 'Forex', 'Index', 'CFD', 'Commodity', 'Bond', 'FuturesOption', 'MutualFund', 'Warrant', 'Trade', 'OrderStatus', 'Order', 'LimitOrder', 'MarketOrder', 'StopOrder', 'StopLimitOrder', 'Ticker', 'IB', 'Client', 'Wrapper', 'FlexReport', 'FlexError', 'IBC', 'IBController', 'Watchdog']\n"
     ]
    }
   ],
   "source": [
    "import ib_insync\n",
    "print(ib_insync.__all__)"
   ]
  },
  {
   "cell_type": "markdown",
   "metadata": {},
   "source": [
    "### Importing\n",
    "The following two lines are used at the top of all notebooks. The first line imports everything and the second\n",
    "starts an event loop to keep the notebook live updated:"
   ]
  },
  {
   "cell_type": "code",
   "execution_count": 2,
   "metadata": {
    "collapsed": true
   },
   "outputs": [],
   "source": [
    "from ib_insync import *\n",
    "util.startLoop()"
   ]
  },
  {
   "cell_type": "markdown",
   "metadata": {},
   "source": [
    "*startLoop() only works in notebooks, not in regular Python programs.*"
   ]
  },
  {
   "cell_type": "markdown",
   "metadata": {},
   "source": [
    "### Connecting\n",
    "The main player of the whole package is the \"IB\" class. Let's create an IB instance and connect to a running TWS/IBG application (remember it must have an open API port):"
   ]
  },
  {
   "cell_type": "code",
   "execution_count": 3,
   "metadata": {
    "collapsed": true,
    "scrolled": true
   },
   "outputs": [
    {
     "data": {
      "text/plain": [
       "<IB connected to 127.0.0.1:7497 clientId=10>"
      ]
     },
     "execution_count": 3,
     "metadata": {},
     "output_type": "execute_result"
    }
   ],
   "source": [
    "ib = IB()\n",
    "ib.connect('127.0.0.1', 7497, clientId=10)"
   ]
  },
  {
   "cell_type": "markdown",
   "metadata": {},
   "source": [
    "If the connection failed, then double-check the hostname and port. For IB Gateway the default port is 4002. Make sure the clientId is not already in use.\n",
    "\n",
    "If the connection succeeded, then ib will be synchronized with TWS/IBG. The \"current state\" is now available via methods such as ib.positions(), ib.trades(), ib.openTrades(), ib.accountValues() or ib.tickers(). Let's list the current positions:"
   ]
  },
  {
   "cell_type": "code",
   "execution_count": 4,
   "metadata": {},
   "outputs": [
    {
     "data": {
      "text/plain": [
       "[Position(account='DU772802', contract=Contract(secType='STK', conId=9579970, symbol='IWM', exchange='ARCA', currency='USD', localSymbol='IWM', tradingClass='IWM'), position=3.0, avgCost=154.57666665),\n",
       " Position(account='DU772802', contract=Contract(secType='FUT', conId=269745169, symbol='ES', lastTradeDateOrContractMonth='20180615', multiplier='50', currency='USD', localSymbol='ESM8', tradingClass='ES'), position=3.0, avgCost=132847.88333335),\n",
       " Position(account='DU772802', contract=Contract(secType='FOP', conId=280107184, symbol='ES', lastTradeDateOrContractMonth='20180615', strike=2700.0, right='C', multiplier='50', currency='USD', localSymbol='ESM8 C2700', tradingClass='ES'), position=3.0, avgCost=2029.19776665),\n",
       " Position(account='DU772802', contract=Contract(secType='OPT', conId=300772895, symbol='VIX', lastTradeDateOrContractMonth='20180619', strike=17.0, right='C', multiplier='100', currency='USD', localSymbol='VIX   180620C00017000', tradingClass='VIX'), position=8.0, avgCost=231.2378),\n",
       " Position(account='DU772802', contract=Contract(secType='FUT', conId=290048111, symbol='ZN', lastTradeDateOrContractMonth='20180620', multiplier='1000', currency='USD', localSymbol='ZN   JUN 18', tradingClass='ZN'), position=-1.0, avgCost=119420.255),\n",
       " Position(account='DU772802', contract=Contract(secType='OPT', conId=310595717, symbol='IWM', lastTradeDateOrContractMonth='20180720', strike=157.0, right='P', multiplier='100', currency='USD', localSymbol='IWM   180720P00157000', tradingClass='IWM'), position=5.0, avgCost=504.7878),\n",
       " Position(account='DU772802', contract=Contract(secType='CASH', conId=12087792, symbol='EUR', currency='USD', localSymbol='EUR.USD', tradingClass='EUR.USD'), position=20000.0, avgCost=1.2),\n",
       " Position(account='DU772802', contract=Contract(secType='OPT', conId=265160118, symbol='AAPL', lastTradeDateOrContractMonth='20180615', strike=170.0, right='C', multiplier='100', currency='USD', localSymbol='AAPL  180615C00170000', tradingClass='AAPL'), position=3.0, avgCost=605.9978),\n",
       " Position(account='DU772802', contract=Contract(secType='STK', conId=265598, symbol='AAPL', exchange='NASDAQ', currency='USD', localSymbol='AAPL', tradingClass='NMS'), position=2.0, avgCost=163.16),\n",
       " Position(account='DU772802', contract=Contract(secType='STK', conId=270639, symbol='INTC', exchange='NASDAQ', currency='USD', localSymbol='INTC', tradingClass='NMS'), position=300.0, avgCost=51.64666665),\n",
       " Position(account='DU772802', contract=Contract(secType='FUT', conId=286286636, symbol='VIX', lastTradeDateOrContractMonth='20180516', multiplier='1000', currency='USD', localSymbol='VXK8', tradingClass='VX'), position=7.0, avgCost=17602.31)]"
      ]
     },
     "execution_count": 4,
     "metadata": {},
     "output_type": "execute_result"
    }
   ],
   "source": [
    "ib.positions()"
   ]
  },
  {
   "cell_type": "markdown",
   "metadata": {},
   "source": [
    "Or filter the account values to get the liquidation value:"
   ]
  },
  {
   "cell_type": "code",
   "execution_count": 5,
   "metadata": {},
   "outputs": [
    {
     "data": {
      "text/plain": [
       "[AccountValue(account='DU772802', tag='NetLiquidationByCurrency', value='834794', currency='BASE', modelCode='')]"
      ]
     },
     "execution_count": 5,
     "metadata": {},
     "output_type": "execute_result"
    }
   ],
   "source": [
    "[v for v in ib.accountValues() if v.tag == 'NetLiquidationByCurrency' and v.currency == 'BASE']"
   ]
  },
  {
   "cell_type": "markdown",
   "metadata": {},
   "source": [
    "The \"current state\" will automatically be kept in sync with TWS/IBG. So an order fill will be added as soon as it is reported, or account values will be updated as soon as they change in TWS."
   ]
  },
  {
   "cell_type": "markdown",
   "metadata": {},
   "source": [
    "### Contracts\n",
    "\n",
    "Contracts can be specified in different ways:\n",
    "* The ibapi way, by creating an empty Contract object and setting it's attributes one by one;\n",
    "* By using Contract and giving the attributes as keyword argument;\n",
    "* By using the specialized Stock, Option, Future, Forex, Index, CFD, Commodity,\n",
    "  Bond, FuturesOption, MutualFund or Warrant contracts.\n",
    "\n",
    "Some examples:"
   ]
  },
  {
   "cell_type": "code",
   "execution_count": 6,
   "metadata": {
    "collapsed": true
   },
   "outputs": [],
   "source": [
    "Contract(conId=270639)\n",
    "Stock('AMD', 'SMART', 'USD')\n",
    "Stock('INTC', 'SMART', 'USD', primaryExchange='NASDAQ')\n",
    "Forex('EURUSD')\n",
    "CFD('IBUS30')\n",
    "Future('ES', '20180921', 'GLOBEX')\n",
    "Option('SPY', '20170721', 240, 'C', 'SMART')\n",
    "Bond(secIdType='ISIN', secId='US03076KAA60');"
   ]
  },
  {
   "cell_type": "markdown",
   "metadata": {},
   "source": [
    "### Sending a request\n",
    "\n",
    "The IB class has nearly all request methods that the IB API offers. The methods that return a result will block until finished and then return the result. Take for example reqContractDetails:"
   ]
  },
  {
   "cell_type": "code",
   "execution_count": 7,
   "metadata": {},
   "outputs": [
    {
     "name": "stdout",
     "output_type": "stream",
     "text": [
      "CPU times: user 1.55 ms, sys: 0 ns, total: 1.55 ms\n",
      "Wall time: 289 ms\n"
     ]
    }
   ],
   "source": [
    "%%time\n",
    "\n",
    "contract = Stock('TSLA', 'SMART', 'USD')\n",
    "cds = ib.reqContractDetails(contract)"
   ]
  },
  {
   "cell_type": "markdown",
   "metadata": {},
   "source": [
    "Requesting contract details generally takes about 100 - 300 ms. Let's have a look at the actual\n",
    "contract details that were sent:"
   ]
  },
  {
   "cell_type": "code",
   "execution_count": 8,
   "metadata": {},
   "outputs": [
    {
     "data": {
      "text/plain": [
       "[ContractDetails(marketName='NMS', minTick=0.01, orderTypes='ACTIVETIM,ADJUST,ALERT,ALGO,ALLOC,AON,AVGCOST,BASKET,COND,CONDORDER,DARKONLY,DARKPOLL,DAY,DEACT,DEACTDIS,DEACTEOD,DIS,GAT,GTC,GTD,GTT,HID,IBKRATS,ICE,IMB,IOC,LIT,LMT,LOC,MIT,MKT,MOC,MTL,NGCOMB,NODARK,NONALGO,OCA,OPG,OPGREROUT,PEGBENCH,POSTONLY,PREOPGRTH,REL,RPI,RTH,SCALE,SCALEODD,SCALERST,SMARTSTG,SNAPMID,SNAPMKT,SNAPREL,STP,STPLMT,SWEEP,TRAIL,TRAILLIT,TRAILLMT,TRAILMIT,WHATIF', validExchanges='SMART,AMEX,NYSE,CBOE,ISE,CHX,ARCA,ISLAND,DRCTEDGE,NSX,BEX,BATS,EDGEA,CSFBALGO,JEFFALGO,BYX,IEX,CVGXALGO,PSX', priceMagnifier=1, longName='TESLA INC', industry='Consumer, Cyclical', category='Auto Manufacturers', subcategory='Auto-Cars/Light Trucks', timeZoneId='EST5EDT', tradingHours='20180508:0400-20180508:2000;20180509:0400-20180509:2000;20180510:0400-20180510:2000;20180511:0400-20180511:2000;20180512:CLOSED;20180513:CLOSED;20180514:0400-20180514:2000;20180515:0400-20180515:2000;20180516:0400-20180516:2000;20180517:0400-20180517:2000;20180518:0400-20180518:2000;20180519:CLOSED;20180520:CLOSED;20180521:0400-20180521:2000;20180522:0400-20180522:2000;20180523:0400-20180523:2000;20180524:0400-20180524:2000;20180525:0400-20180525:2000;20180526:CLOSED;20180527:CLOSED;20180528:0400-20180528:2000;20180529:0400-20180529:2000;20180530:0400-20180530:2000;20180531:0400-20180531:2000;20180601:0400-20180601:2000;20180602:CLOSED;20180603:CLOSED;20180604:0400-20180604:2000;20180605:0400-20180605:2000;20180606:0400-20180606:2000;20180607:0400-20180607:2000;20180608:0400-20180608:2000;20180609:CLOSED;20180610:CLOSED;20180611:0400-20180611:2000', liquidHours='20180508:0930-20180508:1600;20180509:0930-20180509:1600;20180510:0930-20180510:1600;20180511:0930-20180511:1600;20180512:CLOSED;20180513:CLOSED;20180514:0930-20180514:1600;20180515:0930-20180515:1600;20180516:0930-20180516:1600;20180517:0930-20180517:1600;20180518:0930-20180518:1600;20180519:CLOSED;20180520:CLOSED;20180521:0930-20180521:1600;20180522:0930-20180522:1600;20180523:0930-20180523:1600;20180524:0930-20180524:1600;20180525:0930-20180525:1600;20180526:CLOSED;20180527:CLOSED;20180528:0930-20180528:1600;20180529:0930-20180529:1600;20180530:0930-20180530:1600;20180531:0930-20180531:1600;20180601:0930-20180601:1600;20180602:CLOSED;20180603:CLOSED;20180604:0930-20180604:1600;20180605:0930-20180605:1600;20180606:0930-20180606:1600;20180607:0930-20180607:1600;20180608:0930-20180608:1600;20180609:CLOSED;20180610:CLOSED;20180611:0930-20180611:1600', mdSizeMultiplier=100, aggGroup=1, marketRuleIds='26,26,26,26,26,26,26,26,26,26,26,26,26,26,26,26,26,26,26', summary=Contract(secType='STK', conId=76792991, symbol='TSLA', exchange='SMART', primaryExchange='NASDAQ', currency='USD', localSymbol='TSLA', tradingClass='NMS'))]"
      ]
     },
     "execution_count": 8,
     "metadata": {},
     "output_type": "execute_result"
    }
   ],
   "source": [
    "cds"
   ]
  },
  {
   "cell_type": "markdown",
   "metadata": {},
   "source": [
    "### Logging\n",
    "\n",
    "The following will put log messages of INFO and higher level under the current active cell:"
   ]
  },
  {
   "cell_type": "code",
   "execution_count": 9,
   "metadata": {
    "collapsed": true
   },
   "outputs": [],
   "source": [
    "util.logToConsole()"
   ]
  },
  {
   "cell_type": "markdown",
   "metadata": {},
   "source": [
    "To see all debug messages (including network traffic):"
   ]
  },
  {
   "cell_type": "code",
   "execution_count": 10,
   "metadata": {
    "collapsed": true
   },
   "outputs": [],
   "source": [
    "import logging\n",
    "util.logToConsole(logging.DEBUG)"
   ]
  },
  {
   "cell_type": "markdown",
   "metadata": {},
   "source": [
    "### Disconnecting\n",
    "\n",
    "The following will disconnect ``ib`` and clear all its state:"
   ]
  },
  {
   "cell_type": "code",
   "execution_count": 11,
   "metadata": {},
   "outputs": [
    {
     "name": "stderr",
     "output_type": "stream",
     "text": [
      "2018-05-08 14:23:38,594 ib_insync.ib INFO Disconnecting from 127.0.0.1:7497, 144 B sent in 7 messages, 21.1 kB received in 393 messages, session time 502 ms.\n",
      "2018-05-08 14:23:38,597 ib_insync.client INFO Disconnected\n"
     ]
    }
   ],
   "source": [
    "ib.disconnect()"
   ]
  },
  {
   "cell_type": "code",
   "execution_count": null,
   "metadata": {
    "collapsed": true
   },
   "outputs": [],
   "source": []
  }
 ],
 "metadata": {
  "kernelspec": {
   "display_name": "Python 3",
   "language": "python",
   "name": "python3"
  },
  "language_info": {
   "codemirror_mode": {
    "name": "ipython",
    "version": 3
   },
   "file_extension": ".py",
   "mimetype": "text/x-python",
   "name": "python",
   "nbconvert_exporter": "python",
   "pygments_lexer": "ipython3",
   "version": "3.6.5"
  }
 },
 "nbformat": 4,
 "nbformat_minor": 2
}
