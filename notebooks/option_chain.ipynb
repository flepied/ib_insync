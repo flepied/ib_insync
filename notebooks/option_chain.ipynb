{
 "cells": [
  {
   "cell_type": "markdown",
   "metadata": {},
   "source": [
    "Option chains\n",
    "======="
   ]
  },
  {
   "cell_type": "code",
   "execution_count": 1,
   "metadata": {
    "scrolled": true
   },
   "outputs": [
    {
     "data": {
      "text/plain": [
       "<IB connected to 127.0.0.1:7497 clientId=12>"
      ]
     },
     "execution_count": 1,
     "metadata": {},
     "output_type": "execute_result"
    }
   ],
   "source": [
    "from ib_insync import *\n",
    "util.startLoop()\n",
    "\n",
    "ib = IB()\n",
    "ib.connect('127.0.0.1', 7497, clientId=12)"
   ]
  },
  {
   "cell_type": "markdown",
   "metadata": {},
   "source": [
    "Suppose we want to find the options on the SPY. There are two ways to do that:\n",
    "* The old way by requesting contract details\n",
    "* The new and faster way\n",
    "\n",
    "So first the old way. It starts with an ambiguous Option contract and uses that\n",
    "as a wildcard to get the details of all contracts that match:\n",
    "\n",
    "** This will take a while **"
   ]
  },
  {
   "cell_type": "code",
   "execution_count": 2,
   "metadata": {},
   "outputs": [
    {
     "name": "stdout",
     "output_type": "stream",
     "text": [
      "6978\n"
     ]
    },
    {
     "data": {
      "text/plain": [
       "Contract(secType='OPT', conId=217296235, symbol='SPY', lastTradeDateOrContractMonth='20181221', strike=100.0, right='C', multiplier='100', exchange='SMART', currency='USD', localSymbol='SPY   181221C00100000', tradingClass='SPY')"
      ]
     },
     "execution_count": 2,
     "metadata": {},
     "output_type": "execute_result"
    }
   ],
   "source": [
    "option = Option('SPY', exchange='SMART')\n",
    "cds = ib.reqContractDetails(option)\n",
    "\n",
    "contracts = [cd.summary for cd in cds]\n",
    "\n",
    "print(len(contracts))\n",
    "contracts[0]"
   ]
  },
  {
   "cell_type": "markdown",
   "metadata": {},
   "source": [
    "So that's a few thousand contracts. Let's put in some restrictions to get this number down:\n",
    "\n",
    "* Use only the first 3 expirations after today that are on a Friday\n",
    "* Use only strike prices within +- 20 dollar of the current SPY market price\n",
    "* Use only strike prices that are a multitude of 5 dollar\n",
    "\n",
    "For the first restriction the expirations are filtered with an isFriday method,\n",
    "made unique with set(), then sorted and finally the first 3 taken:"
   ]
  },
  {
   "cell_type": "code",
   "execution_count": 3,
   "metadata": {},
   "outputs": [
    {
     "data": {
      "text/plain": [
       "['20180511', '20180518', '20180525']"
      ]
     },
     "execution_count": 3,
     "metadata": {},
     "output_type": "execute_result"
    }
   ],
   "source": [
    "import datetime\n",
    "\n",
    "def isFriday(date):\n",
    "    y = int(date[0:4])\n",
    "    m = int(date[4:6])\n",
    "    d = int(date[6:8])\n",
    "    dd = datetime.date(y, m, d)\n",
    "    return dd.weekday() == 4 and dd > datetime.date.today()\n",
    "\n",
    "expirations = sorted(set(c.lastTradeDateOrContractMonth for c in contracts\n",
    "            if isFriday(c.lastTradeDateOrContractMonth)))[:3]\n",
    "\n",
    "expirations"
   ]
  },
  {
   "cell_type": "markdown",
   "metadata": {},
   "source": [
    "Hmmm... perhaps we could have just taken the next three Fridays?\n",
    "But the number of contracts is going down nicely:"
   ]
  },
  {
   "cell_type": "code",
   "execution_count": 4,
   "metadata": {},
   "outputs": [
    {
     "name": "stdout",
     "output_type": "stream",
     "text": [
      "952\n"
     ]
    }
   ],
   "source": [
    "contracts = [c for c in contracts if c.lastTradeDateOrContractMonth in expirations]\n",
    "\n",
    "print(len(contracts))"
   ]
  },
  {
   "cell_type": "markdown",
   "metadata": {},
   "source": [
    "To get the current price, first create the SPY contract:"
   ]
  },
  {
   "cell_type": "code",
   "execution_count": 5,
   "metadata": {},
   "outputs": [
    {
     "data": {
      "text/plain": [
       "[Stock(conId=756733, symbol='SPY', exchange='ARCA', primaryExchange='ARCA', currency='USD', localSymbol='SPY', tradingClass='SPY')]"
      ]
     },
     "execution_count": 5,
     "metadata": {},
     "output_type": "execute_result"
    }
   ],
   "source": [
    "spy = Stock('SPY', 'ARCA')\n",
    "\n",
    "ib.qualifyContracts(spy)"
   ]
  },
  {
   "cell_type": "markdown",
   "metadata": {},
   "source": [
    "Then get the ticker. Requesting a ticker can take up to 11 seconds."
   ]
  },
  {
   "cell_type": "code",
   "execution_count": 6,
   "metadata": {},
   "outputs": [
    {
     "data": {
      "text/plain": [
       "Ticker(contract=Stock(conId=756733, symbol='SPY', exchange='ARCA', primaryExchange='ARCA', currency='USD', localSymbol='SPY', tradingClass='SPY'), time=datetime.datetime(2018, 5, 8, 12, 49, 44, 710750, tzinfo=datetime.timezone.utc), bid=266.42, bidSize=12, ask=266.43, askSize=3, last=266.43, lastSize=1, volume=4572, close=266.92, ticks=[], tickByTicks=[], domBids=[], domAsks=[], domTicks=[])"
      ]
     },
     "execution_count": 6,
     "metadata": {},
     "output_type": "execute_result"
    }
   ],
   "source": [
    "[ticker] = ib.reqTickers(spy)\n",
    "\n",
    "ticker"
   ]
  },
  {
   "cell_type": "markdown",
   "metadata": {},
   "source": [
    "Apply the final two restrictions:"
   ]
  },
  {
   "cell_type": "code",
   "execution_count": 7,
   "metadata": {},
   "outputs": [
    {
     "name": "stdout",
     "output_type": "stream",
     "text": [
      "48\n",
      "Contract(secType='OPT', conId=303842315, symbol='SPY', lastTradeDateOrContractMonth='20180518', strike=250.0, right='C', multiplier='100', exchange='SMART', currency='USD', localSymbol='SPY   180518C00250000', tradingClass='SPY')\n"
     ]
    }
   ],
   "source": [
    "spyPrice = ticker.marketPrice()\n",
    "\n",
    "contracts = [c for c in contracts if\n",
    "        spyPrice - 20 < c.strike < spyPrice + 20 and\n",
    "        c.strike % 5 == 0]\n",
    "\n",
    "print(len(contracts))\n",
    "print(contracts[0])\n",
    "\n",
    "oldContracts = contracts  # remember for later"
   ]
  },
  {
   "cell_type": "markdown",
   "metadata": {},
   "source": [
    "Finally we have a list of usable option contracts.\n",
    "\n",
    "Okay so now the new and faster way:"
   ]
  },
  {
   "cell_type": "code",
   "execution_count": 8,
   "metadata": {},
   "outputs": [
    {
     "data": {
      "text/html": [
       "<div>\n",
       "<style scoped>\n",
       "    .dataframe tbody tr th:only-of-type {\n",
       "        vertical-align: middle;\n",
       "    }\n",
       "\n",
       "    .dataframe tbody tr th {\n",
       "        vertical-align: top;\n",
       "    }\n",
       "\n",
       "    .dataframe thead th {\n",
       "        text-align: right;\n",
       "    }\n",
       "</style>\n",
       "<table border=\"1\" class=\"dataframe\">\n",
       "  <thead>\n",
       "    <tr style=\"text-align: right;\">\n",
       "      <th></th>\n",
       "      <th>exchange</th>\n",
       "      <th>underlyingConId</th>\n",
       "      <th>tradingClass</th>\n",
       "      <th>multiplier</th>\n",
       "      <th>expirations</th>\n",
       "      <th>strikes</th>\n",
       "    </tr>\n",
       "  </thead>\n",
       "  <tbody>\n",
       "    <tr>\n",
       "      <th>0</th>\n",
       "      <td>NASDAQOM</td>\n",
       "      <td>756733</td>\n",
       "      <td>SPY</td>\n",
       "      <td>100</td>\n",
       "      <td>{20180601, 20180720, 20180921, 20180511, 20180...</td>\n",
       "      <td>{346.0, 306.0, 307.0, 10.0, 15.0, 20.0, 25.0, ...</td>\n",
       "    </tr>\n",
       "    <tr>\n",
       "      <th>1</th>\n",
       "      <td>PSE</td>\n",
       "      <td>756733</td>\n",
       "      <td>SPY</td>\n",
       "      <td>100</td>\n",
       "      <td>{20180601, 20180720, 20180921, 20180511, 20180...</td>\n",
       "      <td>{346.0, 306.0, 307.0, 10.0, 15.0, 20.0, 25.0, ...</td>\n",
       "    </tr>\n",
       "    <tr>\n",
       "      <th>2</th>\n",
       "      <td>BATS</td>\n",
       "      <td>756733</td>\n",
       "      <td>SPY</td>\n",
       "      <td>100</td>\n",
       "      <td>{20180601, 20180720, 20180921, 20180511, 20180...</td>\n",
       "      <td>{346.0, 306.0, 307.0, 10.0, 15.0, 20.0, 25.0, ...</td>\n",
       "    </tr>\n",
       "    <tr>\n",
       "      <th>3</th>\n",
       "      <td>AMEX</td>\n",
       "      <td>756733</td>\n",
       "      <td>SPY</td>\n",
       "      <td>100</td>\n",
       "      <td>{20180601, 20180720, 20180921, 20180511, 20180...</td>\n",
       "      <td>{346.0, 306.0, 307.0, 10.0, 15.0, 20.0, 25.0, ...</td>\n",
       "    </tr>\n",
       "    <tr>\n",
       "      <th>4</th>\n",
       "      <td>PEARL</td>\n",
       "      <td>756733</td>\n",
       "      <td>SPY</td>\n",
       "      <td>100</td>\n",
       "      <td>{20180601, 20180720, 20180921, 20180511, 20180...</td>\n",
       "      <td>{346.0, 306.0, 307.0, 10.0, 15.0, 20.0, 25.0, ...</td>\n",
       "    </tr>\n",
       "    <tr>\n",
       "      <th>5</th>\n",
       "      <td>NASDAQBX</td>\n",
       "      <td>756733</td>\n",
       "      <td>SPY</td>\n",
       "      <td>100</td>\n",
       "      <td>{20180601, 20180720, 20180921, 20180511, 20180...</td>\n",
       "      <td>{346.0, 306.0, 307.0, 10.0, 15.0, 20.0, 25.0, ...</td>\n",
       "    </tr>\n",
       "    <tr>\n",
       "      <th>6</th>\n",
       "      <td>ISE</td>\n",
       "      <td>756733</td>\n",
       "      <td>SPY</td>\n",
       "      <td>100</td>\n",
       "      <td>{20180601, 20180720, 20180921, 20180511, 20180...</td>\n",
       "      <td>{346.0, 306.0, 307.0, 10.0, 15.0, 20.0, 25.0, ...</td>\n",
       "    </tr>\n",
       "    <tr>\n",
       "      <th>7</th>\n",
       "      <td>MIAX</td>\n",
       "      <td>756733</td>\n",
       "      <td>SPY</td>\n",
       "      <td>100</td>\n",
       "      <td>{20180601, 20180720, 20180921, 20180511, 20180...</td>\n",
       "      <td>{346.0, 306.0, 307.0, 10.0, 15.0, 20.0, 25.0, ...</td>\n",
       "    </tr>\n",
       "    <tr>\n",
       "      <th>8</th>\n",
       "      <td>SMART</td>\n",
       "      <td>756733</td>\n",
       "      <td>SPY</td>\n",
       "      <td>100</td>\n",
       "      <td>{20180601, 20180720, 20180921, 20180511, 20180...</td>\n",
       "      <td>{346.0, 306.0, 307.0, 10.0, 15.0, 20.0, 25.0, ...</td>\n",
       "    </tr>\n",
       "    <tr>\n",
       "      <th>9</th>\n",
       "      <td>CBOE</td>\n",
       "      <td>756733</td>\n",
       "      <td>SPY</td>\n",
       "      <td>100</td>\n",
       "      <td>{20180601, 20180720, 20180921, 20180511, 20180...</td>\n",
       "      <td>{346.0, 306.0, 307.0, 10.0, 15.0, 20.0, 25.0, ...</td>\n",
       "    </tr>\n",
       "    <tr>\n",
       "      <th>10</th>\n",
       "      <td>MERCURY</td>\n",
       "      <td>756733</td>\n",
       "      <td>SPY</td>\n",
       "      <td>100</td>\n",
       "      <td>{20180601, 20180720, 20180921, 20180511, 20180...</td>\n",
       "      <td>{346.0, 306.0, 307.0, 10.0, 15.0, 20.0, 25.0, ...</td>\n",
       "    </tr>\n",
       "    <tr>\n",
       "      <th>11</th>\n",
       "      <td>EDGX</td>\n",
       "      <td>756733</td>\n",
       "      <td>SPY</td>\n",
       "      <td>100</td>\n",
       "      <td>{20180601, 20180720, 20180921, 20180511, 20180...</td>\n",
       "      <td>{346.0, 306.0, 307.0, 10.0, 15.0, 20.0, 25.0, ...</td>\n",
       "    </tr>\n",
       "    <tr>\n",
       "      <th>12</th>\n",
       "      <td>GEMINI</td>\n",
       "      <td>756733</td>\n",
       "      <td>SPY</td>\n",
       "      <td>100</td>\n",
       "      <td>{20180601, 20180720, 20180921, 20180511, 20180...</td>\n",
       "      <td>{346.0, 306.0, 307.0, 10.0, 15.0, 20.0, 25.0, ...</td>\n",
       "    </tr>\n",
       "    <tr>\n",
       "      <th>13</th>\n",
       "      <td>BOX</td>\n",
       "      <td>756733</td>\n",
       "      <td>SPY</td>\n",
       "      <td>100</td>\n",
       "      <td>{20180601, 20180720, 20180921, 20180511, 20180...</td>\n",
       "      <td>{346.0, 306.0, 307.0, 10.0, 15.0, 20.0, 25.0, ...</td>\n",
       "    </tr>\n",
       "    <tr>\n",
       "      <th>14</th>\n",
       "      <td>CBOE2</td>\n",
       "      <td>756733</td>\n",
       "      <td>SPY</td>\n",
       "      <td>100</td>\n",
       "      <td>{20180601, 20180720, 20180921, 20180511, 20180...</td>\n",
       "      <td>{346.0, 306.0, 307.0, 10.0, 15.0, 20.0, 25.0, ...</td>\n",
       "    </tr>\n",
       "    <tr>\n",
       "      <th>15</th>\n",
       "      <td>PHLX</td>\n",
       "      <td>756733</td>\n",
       "      <td>SPY</td>\n",
       "      <td>100</td>\n",
       "      <td>{20180601, 20180720, 20180921, 20180511, 20180...</td>\n",
       "      <td>{346.0, 306.0, 307.0, 10.0, 15.0, 20.0, 25.0, ...</td>\n",
       "    </tr>\n",
       "  </tbody>\n",
       "</table>\n",
       "</div>"
      ],
      "text/plain": [
       "    exchange  underlyingConId tradingClass multiplier  \\\n",
       "0   NASDAQOM           756733          SPY        100   \n",
       "1        PSE           756733          SPY        100   \n",
       "2       BATS           756733          SPY        100   \n",
       "3       AMEX           756733          SPY        100   \n",
       "4      PEARL           756733          SPY        100   \n",
       "5   NASDAQBX           756733          SPY        100   \n",
       "6        ISE           756733          SPY        100   \n",
       "7       MIAX           756733          SPY        100   \n",
       "8      SMART           756733          SPY        100   \n",
       "9       CBOE           756733          SPY        100   \n",
       "10   MERCURY           756733          SPY        100   \n",
       "11      EDGX           756733          SPY        100   \n",
       "12    GEMINI           756733          SPY        100   \n",
       "13       BOX           756733          SPY        100   \n",
       "14     CBOE2           756733          SPY        100   \n",
       "15      PHLX           756733          SPY        100   \n",
       "\n",
       "                                          expirations  \\\n",
       "0   {20180601, 20180720, 20180921, 20180511, 20180...   \n",
       "1   {20180601, 20180720, 20180921, 20180511, 20180...   \n",
       "2   {20180601, 20180720, 20180921, 20180511, 20180...   \n",
       "3   {20180601, 20180720, 20180921, 20180511, 20180...   \n",
       "4   {20180601, 20180720, 20180921, 20180511, 20180...   \n",
       "5   {20180601, 20180720, 20180921, 20180511, 20180...   \n",
       "6   {20180601, 20180720, 20180921, 20180511, 20180...   \n",
       "7   {20180601, 20180720, 20180921, 20180511, 20180...   \n",
       "8   {20180601, 20180720, 20180921, 20180511, 20180...   \n",
       "9   {20180601, 20180720, 20180921, 20180511, 20180...   \n",
       "10  {20180601, 20180720, 20180921, 20180511, 20180...   \n",
       "11  {20180601, 20180720, 20180921, 20180511, 20180...   \n",
       "12  {20180601, 20180720, 20180921, 20180511, 20180...   \n",
       "13  {20180601, 20180720, 20180921, 20180511, 20180...   \n",
       "14  {20180601, 20180720, 20180921, 20180511, 20180...   \n",
       "15  {20180601, 20180720, 20180921, 20180511, 20180...   \n",
       "\n",
       "                                              strikes  \n",
       "0   {346.0, 306.0, 307.0, 10.0, 15.0, 20.0, 25.0, ...  \n",
       "1   {346.0, 306.0, 307.0, 10.0, 15.0, 20.0, 25.0, ...  \n",
       "2   {346.0, 306.0, 307.0, 10.0, 15.0, 20.0, 25.0, ...  \n",
       "3   {346.0, 306.0, 307.0, 10.0, 15.0, 20.0, 25.0, ...  \n",
       "4   {346.0, 306.0, 307.0, 10.0, 15.0, 20.0, 25.0, ...  \n",
       "5   {346.0, 306.0, 307.0, 10.0, 15.0, 20.0, 25.0, ...  \n",
       "6   {346.0, 306.0, 307.0, 10.0, 15.0, 20.0, 25.0, ...  \n",
       "7   {346.0, 306.0, 307.0, 10.0, 15.0, 20.0, 25.0, ...  \n",
       "8   {346.0, 306.0, 307.0, 10.0, 15.0, 20.0, 25.0, ...  \n",
       "9   {346.0, 306.0, 307.0, 10.0, 15.0, 20.0, 25.0, ...  \n",
       "10  {346.0, 306.0, 307.0, 10.0, 15.0, 20.0, 25.0, ...  \n",
       "11  {346.0, 306.0, 307.0, 10.0, 15.0, 20.0, 25.0, ...  \n",
       "12  {346.0, 306.0, 307.0, 10.0, 15.0, 20.0, 25.0, ...  \n",
       "13  {346.0, 306.0, 307.0, 10.0, 15.0, 20.0, 25.0, ...  \n",
       "14  {346.0, 306.0, 307.0, 10.0, 15.0, 20.0, 25.0, ...  \n",
       "15  {346.0, 306.0, 307.0, 10.0, 15.0, 20.0, 25.0, ...  "
      ]
     },
     "execution_count": 8,
     "metadata": {},
     "output_type": "execute_result"
    }
   ],
   "source": [
    "chains = ib.reqSecDefOptParams(spy.symbol, '', spy.secType, spy.conId)\n",
    "\n",
    "util.df(chains)"
   ]
  },
  {
   "cell_type": "markdown",
   "metadata": {},
   "source": [
    "We want the options that trade on SMART:"
   ]
  },
  {
   "cell_type": "code",
   "execution_count": 9,
   "metadata": {},
   "outputs": [
    {
     "data": {
      "text/plain": [
       "OptionChain(exchange='SMART', underlyingConId=756733, tradingClass='SPY', multiplier='100', expirations={'20180601', '20180720', '20180921', '20180511', '20180530', '20180615', '20180606', '20190621', '20180516', '20200320', '20180622', '20190118', '20180514', '20200117', '20181231', '20180629', '20181221', '20180611', '20201218', '20180525', '20190329', '20180529', '20180518', '20180817', '20190920', '20191220', '20180613', '20180604', '20190315', '20180509', '20180928', '20180523', '20180521', '20180608'}, strikes={346.0, 306.0, 307.0, 10.0, 15.0, 20.0, 25.0, 311.0, 30.0, 35.0, 40.0, 45.0, 50.0, 316.0, 55.0, 60.0, 65.0, 70.0, 75.0, 80.0, 321.0, 85.0, 90.0, 95.0, 100.0, 105.0, 326.0, 110.0, 115.0, 120.0, 121.0, 122.0, 123.0, 124.0, 125.0, 126.0, 127.0, 128.0, 129.0, 130.0, 331.0, 135.0, 332.0, 140.0, 145.0, 150.0, 151.0, 152.0, 153.0, 154.0, 155.0, 156.0, 157.0, 158.0, 159.0, 160.0, 161.0, 162.0, 163.0, 164.0, 165.0, 166.0, 167.0, 168.0, 169.0, 170.0, 171.0, 172.0, 173.0, 174.0, 175.0, 176.0, 177.0, 178.0, 179.0, 180.0, 181.0, 182.0, 183.0, 184.0, 185.0, 186.0, 187.0, 188.0, 189.0, 190.0, 191.0, 192.0, 193.0, 194.0, 195.0, 196.0, 197.0, 198.0, 199.0, 200.0, 201.0, 202.0, 203.0, 204.0, 205.0, 206.0, 207.0, 208.0, 209.0, 210.0, 211.0, 212.0, 213.0, 214.0, 215.0, 216.0, 217.0, 218.0, 219.0, 220.0, 221.0, 222.0, 223.0, 224.0, 225.0, 226.0, 227.0, 227.5, 228.0, 229.0, 230.0, 231.0, 232.0, 232.5, 233.0, 234.0, 235.0, 236.0, 237.0, 237.5, 238.0, 239.0, 240.0, 241.0, 242.0, 242.5, 243.0, 244.0, 245.0, 246.0, 247.0, 247.5, 248.0, 249.0, 250.0, 251.0, 252.0, 252.5, 253.0, 254.0, 255.0, 255.5, 256.0, 256.5, 257.0, 257.5, 258.0, 259.0, 260.0, 261.0, 262.0, 263.0, 264.0, 265.0, 258.5, 267.0, 268.0, 269.0, 270.0, 259.5, 272.0, 273.0, 274.0, 275.0, 260.5, 277.0, 278.0, 279.0, 280.0, 261.5, 282.0, 283.0, 284.0, 285.0, 262.5, 287.0, 288.0, 289.0, 290.0, 263.5, 292.0, 293.0, 294.0, 295.0, 264.5, 297.0, 298.0, 299.0, 300.0, 265.5, 302.0, 303.0, 304.0, 305.0, 266.0, 266.5, 308.0, 309.0, 310.0, 267.5, 312.0, 313.0, 314.0, 315.0, 268.5, 317.0, 318.0, 319.0, 320.0, 269.5, 322.0, 323.0, 324.0, 325.0, 270.5, 327.0, 328.0, 329.0, 330.0, 271.0, 271.5, 333.0, 334.0, 335.0, 272.5, 337.0, 338.0, 339.0, 340.0, 273.5, 342.0, 343.0, 344.0, 345.0, 274.5, 347.0, 348.0, 349.0, 350.0, 275.5, 355.0, 360.0, 276.0, 276.5, 365.0, 277.5, 370.0, 278.5, 375.0, 279.5, 380.0, 280.5, 385.0, 341.0, 281.0, 281.5, 390.0, 282.5, 395.0, 283.5, 400.0, 284.5, 405.0, 410.0, 286.0, 415.0, 287.5, 420.0, 430.0, 440.0, 291.0, 292.5, 450.0, 460.0, 336.0, 296.0, 297.5, 301.0, 302.5})"
      ]
     },
     "execution_count": 9,
     "metadata": {},
     "output_type": "execute_result"
    }
   ],
   "source": [
    "chain = next(c for c in chains if c.exchange == 'SMART')\n",
    "chain"
   ]
  },
  {
   "cell_type": "markdown",
   "metadata": {},
   "source": [
    "What we have here is a matrix of expirations x strikes. From this we can build all the contracts:"
   ]
  },
  {
   "cell_type": "code",
   "execution_count": 10,
   "metadata": {},
   "outputs": [
    {
     "name": "stdout",
     "output_type": "stream",
     "text": [
      "48\n",
      "\n",
      "Option(conId=312732244, symbol='SPY', lastTradeDateOrContractMonth='20180511', strike=250.0, right='P', multiplier='100', exchange='SMART', currency='USD', localSymbol='SPY   180511P00250000', tradingClass='SPY')\n"
     ]
    }
   ],
   "source": [
    "strikes = [strike for strike in chain.strikes if\n",
    "        strike % 5 == 0 and\n",
    "        spyPrice - 20 < strike < spyPrice + 20]\n",
    "expirations = sorted(exp for exp in chain.expirations if isFriday(exp))[:3]\n",
    "rights = ['P', 'C']\n",
    "\n",
    "contracts = [Option('SPY', expiration, strike, right, 'SMART')\n",
    "        for right in rights for expiration in expirations for strike in strikes]\n",
    "\n",
    "ib.qualifyContracts(*contracts)\n",
    "\n",
    "print(len(contracts))\n",
    "print()\n",
    "print(contracts[0])"
   ]
  },
  {
   "cell_type": "markdown",
   "metadata": {},
   "source": [
    "Let's see if the new way ends up with the same contracts as the old way:"
   ]
  },
  {
   "cell_type": "code",
   "execution_count": 11,
   "metadata": {},
   "outputs": [
    {
     "data": {
      "text/plain": [
       "True"
      ]
     },
     "execution_count": 11,
     "metadata": {},
     "output_type": "execute_result"
    }
   ],
   "source": [
    "set(contracts) == set(oldContracts)"
   ]
  },
  {
   "cell_type": "markdown",
   "metadata": {},
   "source": [
    "Yep. Now to get the market data for all options in one go:"
   ]
  },
  {
   "cell_type": "code",
   "execution_count": 12,
   "metadata": {},
   "outputs": [
    {
     "data": {
      "text/plain": [
       "Ticker(contract=Option(conId=312732244, symbol='SPY', lastTradeDateOrContractMonth='20180511', strike=250.0, right='P', multiplier='100', exchange='SMART', currency='USD', localSymbol='SPY   180511P00250000', tradingClass='SPY'), ticks=[], tickByTicks=[], domBids=[], domAsks=[], domTicks=[], bidGreeks=OptionComputation(impliedVol=None, delta=None, optPrice=0.019999999552965164, pvDividend=0.0, gamma=None, vega=None, theta=None, undPrice=266.4), askGreeks=OptionComputation(impliedVol=None, delta=None, optPrice=0.029999999329447746, pvDividend=0.0, gamma=None, vega=None, theta=None, undPrice=266.4), lastGreeks=OptionComputation(impliedVol=None, delta=None, optPrice=None, pvDividend=0.0, gamma=None, vega=None, theta=None, undPrice=266.4), modelGreeks=OptionComputation(impliedVol=0.19302683646294894, delta=-0.00022208800605610332, optPrice=0.0002775947871500553, pvDividend=0.0, gamma=0.00016966183458047034, vega=0.0003108027426272837, theta=-0.0002775947871500553, undPrice=266.4))"
      ]
     },
     "execution_count": 12,
     "metadata": {},
     "output_type": "execute_result"
    }
   ],
   "source": [
    "tickers = ib.reqTickers(*contracts)\n",
    "\n",
    "tickers[0]"
   ]
  },
  {
   "cell_type": "markdown",
   "metadata": {},
   "source": [
    "The option greeks are available from the ``modelGreeks`` attribute, and if there is a bid, ask resp. last price available also from ``bidGreeks``, ``askGreeks`` and ``lastGreeks``. For streaming ticks the greek values will be kept up to date to the current market situation."
   ]
  },
  {
   "cell_type": "code",
   "execution_count": null,
   "metadata": {},
   "outputs": [],
   "source": []
  }
 ],
 "metadata": {
  "kernelspec": {
   "display_name": "Python 3",
   "language": "python",
   "name": "python3"
  },
  "language_info": {
   "codemirror_mode": {
    "name": "ipython",
    "version": 3
   },
   "file_extension": ".py",
   "mimetype": "text/x-python",
   "name": "python",
   "nbconvert_exporter": "python",
   "pygments_lexer": "ipython3",
   "version": "3.6.5"
  }
 },
 "nbformat": 4,
 "nbformat_minor": 2
}
